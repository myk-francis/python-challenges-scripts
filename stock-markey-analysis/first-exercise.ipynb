{
 "cells": [
  {
   "cell_type": "code",
   "execution_count": 2,
   "metadata": {},
   "outputs": [],
   "source": [
    "import matplotlib.pyplot as plt\n",
    "import numpy as np\n",
    "import pandas as pd\n",
    "%matplotlib inline"
   ]
  },
  {
   "cell_type": "code",
   "execution_count": 4,
   "metadata": {},
   "outputs": [],
   "source": [
    "tesla = pd.read_csv(\"Tesla_Stock.csv\")\n",
    "ford = pd.read_csv(\"Ford_Stock.csv\")\n",
    "gm = pd.read_csv(\"GM_Stock.csv\")"
   ]
  },
  {
   "cell_type": "code",
   "execution_count": 6,
   "metadata": {},
   "outputs": [
    {
     "data": {
      "text/html": [
       "<div>\n",
       "<style scoped>\n",
       "    .dataframe tbody tr th:only-of-type {\n",
       "        vertical-align: middle;\n",
       "    }\n",
       "\n",
       "    .dataframe tbody tr th {\n",
       "        vertical-align: top;\n",
       "    }\n",
       "\n",
       "    .dataframe thead th {\n",
       "        text-align: right;\n",
       "    }\n",
       "</style>\n",
       "<table border=\"1\" class=\"dataframe\">\n",
       "  <thead>\n",
       "    <tr style=\"text-align: right;\">\n",
       "      <th></th>\n",
       "      <th>Date</th>\n",
       "      <th>Open</th>\n",
       "      <th>High</th>\n",
       "      <th>Low</th>\n",
       "      <th>Close</th>\n",
       "      <th>Volume</th>\n",
       "    </tr>\n",
       "  </thead>\n",
       "  <tbody>\n",
       "    <tr>\n",
       "      <th>0</th>\n",
       "      <td>2012-01-03</td>\n",
       "      <td>28.94</td>\n",
       "      <td>29.50</td>\n",
       "      <td>27.65</td>\n",
       "      <td>28.08</td>\n",
       "      <td>928052</td>\n",
       "    </tr>\n",
       "    <tr>\n",
       "      <th>1</th>\n",
       "      <td>2012-01-04</td>\n",
       "      <td>28.21</td>\n",
       "      <td>28.67</td>\n",
       "      <td>27.50</td>\n",
       "      <td>27.71</td>\n",
       "      <td>630036</td>\n",
       "    </tr>\n",
       "    <tr>\n",
       "      <th>2</th>\n",
       "      <td>2012-01-05</td>\n",
       "      <td>27.76</td>\n",
       "      <td>27.93</td>\n",
       "      <td>26.85</td>\n",
       "      <td>27.12</td>\n",
       "      <td>1005432</td>\n",
       "    </tr>\n",
       "    <tr>\n",
       "      <th>3</th>\n",
       "      <td>2012-01-06</td>\n",
       "      <td>27.20</td>\n",
       "      <td>27.79</td>\n",
       "      <td>26.41</td>\n",
       "      <td>26.89</td>\n",
       "      <td>687081</td>\n",
       "    </tr>\n",
       "    <tr>\n",
       "      <th>4</th>\n",
       "      <td>2012-01-09</td>\n",
       "      <td>27.00</td>\n",
       "      <td>27.49</td>\n",
       "      <td>26.12</td>\n",
       "      <td>27.25</td>\n",
       "      <td>896951</td>\n",
       "    </tr>\n",
       "  </tbody>\n",
       "</table>\n",
       "</div>"
      ],
      "text/plain": [
       "         Date   Open   High    Low  Close   Volume\n",
       "0  2012-01-03  28.94  29.50  27.65  28.08   928052\n",
       "1  2012-01-04  28.21  28.67  27.50  27.71   630036\n",
       "2  2012-01-05  27.76  27.93  26.85  27.12  1005432\n",
       "3  2012-01-06  27.20  27.79  26.41  26.89   687081\n",
       "4  2012-01-09  27.00  27.49  26.12  27.25   896951"
      ]
     },
     "execution_count": 6,
     "metadata": {},
     "output_type": "execute_result"
    }
   ],
   "source": [
    "tesla.head()"
   ]
  },
  {
   "cell_type": "code",
   "execution_count": null,
   "metadata": {},
   "outputs": [],
   "source": [
    "tesla['Open'].plot(label = 'Tesla', figsize=(16,8), title = 'Open Price')\n",
    "gm['Open'].plot(label = 'GM')\n",
    "ford['Open'].plot(label = 'Ford')"
   ]
  }
 ],
 "metadata": {
  "kernelspec": {
   "display_name": "base",
   "language": "python",
   "name": "python3"
  },
  "language_info": {
   "codemirror_mode": {
    "name": "ipython",
    "version": 3
   },
   "file_extension": ".py",
   "mimetype": "text/x-python",
   "name": "python",
   "nbconvert_exporter": "python",
   "pygments_lexer": "ipython3",
   "version": "3.10.9"
  }
 },
 "nbformat": 4,
 "nbformat_minor": 2
}
